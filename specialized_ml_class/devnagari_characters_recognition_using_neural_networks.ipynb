{
  "nbformat": 4,
  "nbformat_minor": 0,
  "metadata": {
    "colab": {
      "provenance": []
    },
    "kernelspec": {
      "name": "python3",
      "display_name": "Python 3"
    },
    "language_info": {
      "name": "python"
    }
  },
  "cells": [
    {
      "cell_type": "code",
      "execution_count": null,
      "metadata": {
        "id": "YjQtHsP9VsWb"
      },
      "outputs": [],
      "source": [
        "# making a copy of csv file from drive to /content\n",
        "!cp /content/drive/MyDrive/Devnagari_Handwritten_Characters_Train.csv /content"
      ]
    },
    {
      "cell_type": "markdown",
      "source": [
        "###We will use Keras library developed by French Scientist **Francois Chollet**"
      ],
      "metadata": {
        "id": "CQjydSVCYOns"
      }
    },
    {
      "cell_type": "code",
      "source": [
        "# imprting the required libraries\n",
        "import pandas as pd\n",
        "from keras.layers import Input\n",
        "from keras.layers import Dense  # dense works as both hidden and output layer\n",
        "from keras.models import Sequential\n",
        "from keras.utils import to_categorical"
      ],
      "metadata": {
        "id": "A9MwtdMwW4-w"
      },
      "execution_count": null,
      "outputs": []
    },
    {
      "cell_type": "code",
      "source": [
        "# read the csv file in a dataframe\n",
        "training_data_df = pd.read_csv(\"/content/Devnagari_Handwritten_Characters_Train.csv\")"
      ],
      "metadata": {
        "id": "InsB6xsGZHK_"
      },
      "execution_count": null,
      "outputs": []
    },
    {
      "cell_type": "code",
      "source": [
        "def image_recognition_dnn():\n",
        "  dnn = Sequential()   # create a Sequential blackbox: input - 1024 and output - 46\n",
        "  \n",
        "  # add layers to the box\n",
        "  dnn.add(Input(shape=(1024,)))   # adding the input layer\n",
        "  dnn.add(Dense(units=1024, activation=\"relu\"))   # adding a hidden layer\n",
        "  dnn.add(Dense(units=46, activation=\"softmax\"))  # adding the output layer\n",
        "\n",
        "  return dnn"
      ],
      "metadata": {
        "id": "-25wo2vQZRPg"
      },
      "execution_count": null,
      "outputs": []
    },
    {
      "cell_type": "code",
      "source": [
        "dnn = image_recognition_dnn()   # creating and connecting the dnn"
      ],
      "metadata": {
        "id": "ZFxPalx2cV2e"
      },
      "execution_count": null,
      "outputs": []
    },
    {
      "cell_type": "code",
      "source": [
        "dnn.summary()   # to see the structure of the network"
      ],
      "metadata": {
        "colab": {
          "base_uri": "https://localhost:8080/"
        },
        "id": "ePNNjPp4cXtG",
        "outputId": "e9896700-86c8-49a3-f23f-eff691d24ed7"
      },
      "execution_count": null,
      "outputs": [
        {
          "output_type": "stream",
          "name": "stdout",
          "text": [
            "Model: \"sequential\"\n",
            "_________________________________________________________________\n",
            " Layer (type)                Output Shape              Param #   \n",
            "=================================================================\n",
            " dense (Dense)               (None, 1024)              1049600   \n",
            "                                                                 \n",
            " dense_1 (Dense)             (None, 46)                47150     \n",
            "                                                                 \n",
            "=================================================================\n",
            "Total params: 1,096,750\n",
            "Trainable params: 1,096,750\n",
            "Non-trainable params: 0\n",
            "_________________________________________________________________\n"
          ]
        }
      ]
    },
    {
      "cell_type": "markdown",
      "source": [
        "###Here, we will use **One Hot Encoding** method to convert the answers column into a vector having 46 vlaues to make it **comparable** to the result vector of the neural network."
      ],
      "metadata": {
        "id": "JL6drtIOe4Lx"
      }
    },
    {
      "cell_type": "code",
      "source": [
        "# create list of unique folder names\n",
        "# print(training_data_df)\n",
        "diff_folders = set()\n",
        "# print(training_data_df[\"image_label\"])\n",
        "for folder_name in training_data_df[\"image_label\"]:\n",
        "  diff_folders.add(folder_name)\n",
        "# diff_folders = list(diff_folders)   # convert it to list\n",
        "# print(diff_folders)\n",
        "#  replace the folder names with a number\n",
        "training_data_df[\"image_label\"].replace(to_replace=diff_folders, value=range(0, 46), inplace=True)\n",
        "# print(training_data_df[\"image_label\"])"
      ],
      "metadata": {
        "id": "-6VSS2IcgO_Q"
      },
      "execution_count": null,
      "outputs": []
    },
    {
      "cell_type": "code",
      "source": [
        "print(training_data_df)\n",
        "# converting the image_label column to a vector\n",
        "ohe_answers = to_categorical(y=training_data_df[\"image_label\"], num_classes=46)\n"
      ],
      "metadata": {
        "colab": {
          "base_uri": "https://localhost:8080/"
        },
        "id": "QN7YL1d4cfxh",
        "outputId": "a2236ee1-6338-4b3f-8e31-194fc12b5974"
      },
      "execution_count": null,
      "outputs": [
        {
          "output_type": "stream",
          "name": "stdout",
          "text": [
            "       Unnamed: 0  Pixel#1  Pixel#2  Pixel#3  Pixel#4  Pixel#5  Pixel#6  \\\n",
            "0               0      0.0      0.0      0.0      0.0      0.0      0.0   \n",
            "1               1      0.0      0.0      0.0      0.0      0.0      0.0   \n",
            "2               2      0.0      0.0      0.0      0.0      0.0      0.0   \n",
            "3               3      0.0      0.0      0.0      0.0      0.0      0.0   \n",
            "4               4      0.0      0.0      0.0      0.0      0.0      0.0   \n",
            "...           ...      ...      ...      ...      ...      ...      ...   \n",
            "78195       78195      0.0      0.0      0.0      0.0      0.0      0.0   \n",
            "78196       78196      0.0      0.0      0.0      0.0      0.0      0.0   \n",
            "78197       78197      0.0      0.0      0.0      0.0      0.0      0.0   \n",
            "78198       78198      0.0      0.0      0.0      0.0      0.0      0.0   \n",
            "78199       78199      0.0      0.0      0.0      0.0      0.0      0.0   \n",
            "\n",
            "       Pixel#7  Pixel#8  Pixel#9  ...  Pixel#1016  Pixel#1017  Pixel#1018  \\\n",
            "0          0.0      0.0      0.0  ...         0.0         0.0         0.0   \n",
            "1          0.0      0.0      0.0  ...         0.0         0.0         0.0   \n",
            "2          0.0      0.0      0.0  ...         0.0         0.0         0.0   \n",
            "3          0.0      0.0      0.0  ...         0.0         0.0         0.0   \n",
            "4          0.0      0.0      0.0  ...         0.0         0.0         0.0   \n",
            "...        ...      ...      ...  ...         ...         ...         ...   \n",
            "78195      0.0      0.0      0.0  ...         0.0         0.0         0.0   \n",
            "78196      0.0      0.0      0.0  ...         0.0         0.0         0.0   \n",
            "78197      0.0      0.0      0.0  ...         0.0         0.0         0.0   \n",
            "78198      0.0      0.0      0.0  ...         0.0         0.0         0.0   \n",
            "78199      0.0      0.0      0.0  ...         0.0         0.0         0.0   \n",
            "\n",
            "       Pixel#1019  Pixel#1020  Pixel#1021  Pixel#1022  Pixel#1023  Pixel#1024  \\\n",
            "0             0.0         0.0         0.0         0.0         0.0         0.0   \n",
            "1             0.0         0.0         0.0         0.0         0.0         0.0   \n",
            "2             0.0         0.0         0.0         0.0         0.0         0.0   \n",
            "3             0.0         0.0         0.0         0.0         0.0         0.0   \n",
            "4             0.0         0.0         0.0         0.0         0.0         0.0   \n",
            "...           ...         ...         ...         ...         ...         ...   \n",
            "78195         0.0         0.0         0.0         0.0         0.0         0.0   \n",
            "78196         0.0         0.0         0.0         0.0         0.0         0.0   \n",
            "78197         0.0         0.0         0.0         0.0         0.0         0.0   \n",
            "78198         0.0         0.0         0.0         0.0         0.0         0.0   \n",
            "78199         0.0         0.0         0.0         0.0         0.0         0.0   \n",
            "\n",
            "       image_label  \n",
            "0               38  \n",
            "1               38  \n",
            "2               38  \n",
            "3               38  \n",
            "4               38  \n",
            "...            ...  \n",
            "78195           37  \n",
            "78196           37  \n",
            "78197           37  \n",
            "78198           37  \n",
            "78199           37  \n",
            "\n",
            "[78200 rows x 1026 columns]\n"
          ]
        }
      ]
    },
    {
      "cell_type": "code",
      "source": [
        "dnn.compile(loss=\"categorical_crossentropy\", metrics=[\"accuracy\"])"
      ],
      "metadata": {
        "id": "MkF1tPbghA5i"
      },
      "execution_count": null,
      "outputs": []
    },
    {
      "cell_type": "code",
      "source": [
        "training_data_df.columns"
      ],
      "metadata": {
        "colab": {
          "base_uri": "https://localhost:8080/"
        },
        "id": "z-o1BxXmjYB6",
        "outputId": "2f4ac74d-de05-4113-a85a-36e9e526f713"
      },
      "execution_count": null,
      "outputs": [
        {
          "output_type": "execute_result",
          "data": {
            "text/plain": [
              "Index(['Unnamed: 0', 'Pixel#1', 'Pixel#2', 'Pixel#3', 'Pixel#4', 'Pixel#5',\n",
              "       'Pixel#6', 'Pixel#7', 'Pixel#8', 'Pixel#9',\n",
              "       ...\n",
              "       'Pixel#1016', 'Pixel#1017', 'Pixel#1018', 'Pixel#1019', 'Pixel#1020',\n",
              "       'Pixel#1021', 'Pixel#1022', 'Pixel#1023', 'Pixel#1024', 'image_label'],\n",
              "      dtype='object', length=1026)"
            ]
          },
          "metadata": {},
          "execution_count": 10
        }
      ]
    },
    {
      "cell_type": "code",
      "source": [
        "dnn.fit(x=training_data_df.iloc[:, 1:1025], y=ohe_answers,batch_size=1700, epochs=15)"
      ],
      "metadata": {
        "colab": {
          "base_uri": "https://localhost:8080/"
        },
        "id": "W-RpR-TEiB5A",
        "outputId": "e5cf9b69-3a24-4896-f314-dced35b8cb05"
      },
      "execution_count": null,
      "outputs": [
        {
          "output_type": "stream",
          "name": "stdout",
          "text": [
            "Epoch 1/15\n",
            "46/46 [==============================] - 11s 238ms/step - loss: 0.1925 - accuracy: 0.9532\n",
            "Epoch 2/15\n",
            "46/46 [==============================] - 10s 222ms/step - loss: 0.1683 - accuracy: 0.9598\n",
            "Epoch 3/15\n",
            "46/46 [==============================] - 8s 164ms/step - loss: 0.1480 - accuracy: 0.9654\n",
            "Epoch 4/15\n",
            "46/46 [==============================] - 9s 192ms/step - loss: 0.1324 - accuracy: 0.9695\n",
            "Epoch 5/15\n",
            "46/46 [==============================] - 7s 154ms/step - loss: 0.1159 - accuracy: 0.9745\n",
            "Epoch 6/15\n",
            "46/46 [==============================] - 9s 196ms/step - loss: 0.1039 - accuracy: 0.9779\n",
            "Epoch 7/15\n",
            "46/46 [==============================] - 7s 154ms/step - loss: 0.0909 - accuracy: 0.9816\n",
            "Epoch 8/15\n",
            "46/46 [==============================] - 9s 195ms/step - loss: 0.0814 - accuracy: 0.9843\n",
            "Epoch 9/15\n",
            "46/46 [==============================] - 8s 178ms/step - loss: 0.0725 - accuracy: 0.9864\n",
            "Epoch 10/15\n",
            "46/46 [==============================] - 8s 181ms/step - loss: 0.0636 - accuracy: 0.9891\n",
            "Epoch 11/15\n",
            "46/46 [==============================] - 8s 178ms/step - loss: 0.0564 - accuracy: 0.9903\n",
            "Epoch 12/15\n",
            "46/46 [==============================] - 8s 168ms/step - loss: 0.0500 - accuracy: 0.9923\n",
            "Epoch 13/15\n",
            "46/46 [==============================] - 9s 191ms/step - loss: 0.0445 - accuracy: 0.9938\n",
            "Epoch 14/15\n",
            "46/46 [==============================] - 7s 153ms/step - loss: 0.0386 - accuracy: 0.9950\n",
            "Epoch 15/15\n",
            "46/46 [==============================] - 9s 196ms/step - loss: 0.0337 - accuracy: 0.9964\n"
          ]
        },
        {
          "output_type": "execute_result",
          "data": {
            "text/plain": [
              "<keras.callbacks.History at 0x7f92f7e21370>"
            ]
          },
          "metadata": {},
          "execution_count": 12
        }
      ]
    },
    {
      "cell_type": "markdown",
      "source": [
        "1. batch_size = 1700; epochs = 10; accuracy = 94.62%;\n",
        "2. batch_size = 1700; epochs = 15; accuracy = 99.64%"
      ],
      "metadata": {
        "id": "sGnFnrk1us4q"
      }
    },
    {
      "cell_type": "code",
      "source": [],
      "metadata": {
        "id": "xGFMgeRjjv30"
      },
      "execution_count": null,
      "outputs": []
    }
  ]
}